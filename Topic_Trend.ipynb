{
 "cells": [
  {
   "cell_type": "markdown",
   "id": "40d6401d",
   "metadata": {},
   "source": [
    "# 1. Load data"
   ]
  },
  {
   "cell_type": "code",
   "execution_count": 2,
   "id": "fc4ed6b6",
   "metadata": {},
   "outputs": [],
   "source": [
    "import pandas as pd\n",
    "import os\n",
    "\n",
    "# dir\n",
    "work_dir = os.getcwd()\n",
    "input_path = os.path.join(work_dir, \"INPUT/central_bank_speech/all_speeches.csv\")\n",
    "speeches_data = pd.read_csv(input_path)\n",
    "speeches_data[\"date\"] = pd.to_datetime(speeches_data[\"date\"],format=\"%d/%m/%Y\")"
   ]
  },
  {
   "cell_type": "code",
   "execution_count": 3,
   "id": "f79439b5",
   "metadata": {},
   "outputs": [],
   "source": [
    "# selected latest 20 row for test\n",
    "df_raw = speeches_data.set_index(\"date\").tail(20)\n",
    "\n",
    "# phase 2.0 weights by date"
   ]
  },
  {
   "cell_type": "markdown",
   "id": "681e35e6",
   "metadata": {},
   "source": [
    "# 2. Doc & Word Embedding"
   ]
  },
  {
   "cell_type": "code",
   "execution_count": 4,
   "id": "1edd4910",
   "metadata": {},
   "outputs": [],
   "source": [
    "#Libraries for vectorization\n",
    "from sklearn.feature_extraction.text import CountVectorizer, TfidfVectorizer\n",
    "from keyphrase_vectorizers import KeyphraseCountVectorizer, KeyphraseTfidfVectorizer\n",
    "#Libraries for embedding\n",
    "from sentence_transformers import SentenceTransformer\n",
    "\n",
    "\n",
    "# 2.1 vectorization\n",
    "def CountVectorizer_func(doc,ngram_range = (1,1)):\n",
    "\n",
    "    count = CountVectorizer(ngram_range= ngram_range, stop_words=\"english\").fit([doc])\n",
    "    candidates = count.get_feature_names_out()\n",
    "    \n",
    "    return candidates\n",
    "\n",
    "\n",
    "def KeyphraseCountVectorizer_func(doc):\n",
    "    \n",
    "    #pos_pattern = '<J.*>*<N.*>+',\n",
    "    count = KeyphraseCountVectorizer(doc,stop_words=\"english\").fit([doc])\n",
    "    candidates = count.get_feature_names_out()\n",
    "    \n",
    "    return candidates\n",
    "\n",
    "\n",
    "# 2.2 Embedding\n",
    "# pretrained models: 'all-MiniLM-L6-v2', 'distilbert-base-nli-mean-tokens'\n",
    "\n",
    "def embedding_func(doc, candidates, model_name = 'all-MiniLM-L6-v2'):\n",
    "    \n",
    "    model = SentenceTransformer(model_name)\n",
    "    doc_embedding = model.encode([doc])\n",
    "    candidate_embeddings = model.encode(candidates)\n",
    "    \n",
    "    return doc_embedding, candidate_embeddings"
   ]
  },
  {
   "cell_type": "code",
   "execution_count": 8,
   "id": "2b79d217",
   "metadata": {},
   "outputs": [],
   "source": [
    "doc = df_raw.iloc[3][\"text\"]"
   ]
  },
  {
   "cell_type": "code",
   "execution_count": 8,
   "id": "bebeee2a",
   "metadata": {},
   "outputs": [],
   "source": [
    "testdoc = \"Our monetary policy deliberations and decisions build on what we have learned about inflation dynamics both from the high and volatile inflation of the 1970s and 1980s\"\n",
    "candidates = CountVectorizer_func(testdoc,ngram_range = (1,1))\n",
    "doc_embedding, candidate_embeddings = embedding_func (testdoc,candidates)\n",
    "#CountVectorizer_func(doc,ngram_range = (1,2))"
   ]
  },
  {
   "cell_type": "markdown",
   "id": "f12f1f28",
   "metadata": {},
   "source": [
    "# 3. Keywords Extraction (cosine_similarity )"
   ]
  },
  {
   "cell_type": "code",
   "execution_count": null,
   "id": "7be232e4",
   "metadata": {},
   "outputs": [],
   "source": [
    "from sklearn.metrics.pairwise import cosine_similarity\n",
    "import numpy as np\n",
    "import itertools\n",
    "\n",
    "# for n_gram\n",
    "def extract_keywords(doc_embedding, candidate_embeddings, top_n = 5):\n",
    "    \n",
    "    distances = cosine_similarity(doc_embedding, candidate_embeddings)\n",
    "    keywords = [candidates[index] for index in distances.argsort()[0][-top_n:]]\n",
    "    \n",
    "\n",
    "\n",
    "def max_sum_sim(doc_embedding, word_embeddings, words, top_n, nr_candidates):\n",
    "    # Calculate distances and extract keywords\n",
    "    distances = cosine_similarity(doc_embedding, candidate_embeddings)\n",
    "    distances_candidates = cosine_similarity(candidate_embeddings, \n",
    "                                            candidate_embeddings)\n",
    "\n",
    "    # Get top_n words as candidates based on cosine similarity\n",
    "    words_idx = list(distances.argsort()[0][-nr_candidates:])\n",
    "    words_vals = [candidates[index] for index in words_idx]\n",
    "    distances_candidates = distances_candidates[np.ix_(words_idx, words_idx)]\n",
    "\n",
    "    # Calculate the combination of words that are the least similar to each other\n",
    "    min_sim = np.inf\n",
    "    candidate = None\n",
    "    for combination in itertools.combinations(range(len(words_idx)), top_n):\n",
    "        sim = sum([distances_candidates[i][j] for i in combination for j in combination if i != j])\n",
    "        if sim < min_sim:\n",
    "            candidate = combination\n",
    "            min_sim = sim\n",
    "\n",
    "    return [words_vals[idx] for idx in candidate]"
   ]
  },
  {
   "cell_type": "markdown",
   "id": "e0f79664",
   "metadata": {},
   "source": [
    "# 4. kmeans"
   ]
  },
  {
   "cell_type": "code",
   "execution_count": null,
   "id": "c01f4605",
   "metadata": {},
   "outputs": [],
   "source": []
  }
 ],
 "metadata": {
  "kernelspec": {
   "display_name": "Python 3 (ipykernel)",
   "language": "python",
   "name": "python3"
  },
  "language_info": {
   "codemirror_mode": {
    "name": "ipython",
    "version": 3
   },
   "file_extension": ".py",
   "mimetype": "text/x-python",
   "name": "python",
   "nbconvert_exporter": "python",
   "pygments_lexer": "ipython3",
   "version": "3.9.13"
  }
 },
 "nbformat": 4,
 "nbformat_minor": 5
}
